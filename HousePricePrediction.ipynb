{
 "cells": [
  {
   "metadata": {},
   "cell_type": "markdown",
   "source": "WEEK 1",
   "id": "68b3d04d26cba06c"
  },
  {
   "metadata": {},
   "cell_type": "markdown",
   "source": "",
   "id": "bbe477b421f1bdac"
  }
 ],
 "metadata": {
  "kernelspec": {
   "display_name": "Python 3",
   "language": "python",
   "name": "python3"
  },
  "language_info": {
   "codemirror_mode": {
    "name": "ipython",
    "version": 2
   },
   "file_extension": ".py",
   "mimetype": "text/x-python",
   "name": "python",
   "nbconvert_exporter": "python",
   "pygments_lexer": "ipython2",
   "version": "2.7.6"
  }
 },
 "nbformat": 4,
 "nbformat_minor": 5
}
