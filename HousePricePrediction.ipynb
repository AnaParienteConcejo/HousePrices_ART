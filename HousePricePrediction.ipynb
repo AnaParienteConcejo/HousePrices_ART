{
 "cells": [
  {
   "metadata": {},
   "cell_type": "markdown",
   "source": "# WEEK 1",
   "id": "68b3d04d26cba06c"
  },
  {
   "metadata": {},
   "cell_type": "markdown",
   "source": "First try with the knowledge of the week one.",
   "id": "bbe477b421f1bdac"
  },
  {
   "metadata": {},
   "cell_type": "markdown",
   "source": "## CODE VISUALIZATION",
   "id": "172c6fa73eda4cd6"
  },
  {
   "metadata": {
    "ExecuteTime": {
     "end_time": "2025-10-30T13:27:41.791243Z",
     "start_time": "2025-10-30T13:27:34.326036Z"
    }
   },
   "cell_type": "code",
   "source": [
    "import numpy as np\n",
    "import matplotlib.pyplot as plt\n",
    "plt.style.use('./deeplearning.mplstyle')"
   ],
   "id": "4eb5a04218d105da",
   "outputs": [
    {
     "name": "stderr",
     "output_type": "stream",
     "text": [
      "Matplotlib is building the font cache; this may take a moment.\n"
     ]
    }
   ],
   "execution_count": 10
  },
  {
   "metadata": {
    "ExecuteTime": {
     "end_time": "2025-10-30T13:31:08.910702Z",
     "start_time": "2025-10-30T13:31:08.865914Z"
    }
   },
   "cell_type": "code",
   "source": [
    "train_set = np.genfromtxt('./data/train.csv', delimiter=',')\n",
    "m = train_set.shape[0]\n",
    "print(m)"
   ],
   "id": "1e28a245fc82e80c",
   "outputs": [
    {
     "name": "stdout",
     "output_type": "stream",
     "text": [
      "1461\n"
     ]
    }
   ],
   "execution_count": 12
  },
  {
   "metadata": {},
   "cell_type": "code",
   "outputs": [],
   "execution_count": null,
   "source": "",
   "id": "7e7fe88176ffcf7c"
  }
 ],
 "metadata": {
  "kernelspec": {
   "display_name": "Python 3",
   "language": "python",
   "name": "python3"
  },
  "language_info": {
   "codemirror_mode": {
    "name": "ipython",
    "version": 2
   },
   "file_extension": ".py",
   "mimetype": "text/x-python",
   "name": "python",
   "nbconvert_exporter": "python",
   "pygments_lexer": "ipython2",
   "version": "2.7.6"
  }
 },
 "nbformat": 4,
 "nbformat_minor": 5
}
